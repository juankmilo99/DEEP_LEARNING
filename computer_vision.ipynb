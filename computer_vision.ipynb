{
  "nbformat": 4,
  "nbformat_minor": 0,
  "metadata": {
    "colab": {
      "name": "computer_vision.ipynb",
      "provenance": [],
      "toc_visible": true
    },
    "kernelspec": {
      "name": "python3",
      "display_name": "Python 3"
    }
  },
  "cells": [
    {
      "cell_type": "code",
      "metadata": {
        "id": "CZnorBt2V2jx",
        "colab_type": "code",
        "outputId": "1f5a8be7-a43c-4b1b-f068-18a24c298e96",
        "colab": {
          "base_uri": "https://localhost:8080/",
          "height": 34
        }
      },
      "source": [
        "from google.colab import drive\n",
        "drive.mount('/content/drive') "
      ],
      "execution_count": 0,
      "outputs": [
        {
          "output_type": "stream",
          "text": [
            "Drive already mounted at /content/drive; to attempt to forcibly remount, call drive.mount(\"/content/drive\", force_remount=True).\n"
          ],
          "name": "stdout"
        }
      ]
    },
    {
      "cell_type": "code",
      "metadata": {
        "id": "7GgjII1yYAye",
        "colab_type": "code",
        "colab": {}
      },
      "source": [
        "import cv2                                  #libreria de opencv\n",
        "import numpy as np                          #libreria para manejo de arrays \n",
        "from matplotlib import pyplot as plt        #libreria para visualizar graficos y otros\n",
        "from google.colab.patches import cv2_imshow #modulo para visualizar imagenes en google colaboratory"
      ],
      "execution_count": 0,
      "outputs": []
    },
    {
      "cell_type": "code",
      "metadata": {
        "id": "BPJpgNqsYYr5",
        "colab_type": "code",
        "colab": {}
      },
      "source": [
        "img = cv2.imread(\"/content/drive/My Drive/Computer_vision/Images/imagen1.jpg\")\n",
        "if img.size == 0:\n",
        "  print(\"Error: la imagen no fue cargada con exito.\")\n",
        "else:\n",
        "  print('Image Dimensiones  : ',img.shape)\n",
        "  print(\"Alto: \",str(img.shape[0]),\",Ancho: \",img.shape[1],\"Número de canales:\",img.shape[2])\n",
        "  cv2_imshow(img)\n"
      ],
      "execution_count": 0,
      "outputs": []
    },
    {
      "cell_type": "code",
      "metadata": {
        "id": "HCBv24fSaWAF",
        "colab_type": "code",
        "colab": {}
      },
      "source": [
        "#convirtiendo la imagen a escala de grises\n",
        "processed_image = cv2.cvtColor(img, cv2.COLOR_BGR2GRAY)\n",
        "#guardando la imagen en drive\n",
        "cv2.imwrite('/content/drive/My Drive/Computer_Vision/Images/image1_processed_gray.png', processed_image)\n",
        "cv2_imshow(processed_image)\n"
      ],
      "execution_count": 0,
      "outputs": []
    },
    {
      "cell_type": "code",
      "metadata": {
        "id": "Q0J67un4bssD",
        "colab_type": "code",
        "colab": {}
      },
      "source": [
        "#Cargamos la imagen de la que queremos reslartar el rojo\n",
        "img = cv2.imread(\"/content/drive/My Drive/Computer_vision/Images/imagen2.jpg\")\n",
        "#convertimos la imagen a gris\n",
        "hsv = cv2.cvtColor(img, cv2.COLOR_BGR2HSV)\n",
        "lower_red = np.array([30,150,50]) # codigo minimo del rojo en del B,G,R\n",
        "upper_red = np.array([255,255,180]) # codigo maximo del rojo en B,G,R\n",
        "#Creamos una mascara de la imagen donde resaltaremos el color rojo\n",
        "mask_red = cv2.inRange(hsv, lower_red, upper_red) \n",
        "#aplicamos la mascara en la imagen\n",
        "img_result = cv2.bitwise_and(img,img, mask = mask_red)\n",
        "#visualizamos la imagen\n",
        "cv2_imshow(img)\n",
        "cv2_imshow(mask_red)\n",
        "cv2_imshow(img_result)\n"
      ],
      "execution_count": 0,
      "outputs": []
    },
    {
      "cell_type": "code",
      "metadata": {
        "id": "8e0b8ZDbeRTh",
        "colab_type": "code",
        "colab": {}
      },
      "source": [
        "#Cargamos la imagen de la que queremos reslartar el rojo\n",
        "img = cv2.imread(\"/content/drive/My Drive/Computer_vision/Images/imagen2.jpg\")\n",
        "#convertimos la imagen a RGB HSV\n",
        "hsv = cv2.cvtColor(img, cv2.COLOR_BGR2HSV)\n",
        "lower_red = np.array([30,150,50]) # codigo minimo del rojo en del B,G,R\n",
        "upper_red = np.array([255,255,180]) # codigo maximo del rojo en B,G,R\n",
        "#Creamos una mascara de la imagen donde resaltaremos el color rojo\n",
        "mask_red = cv2.inRange(hsv, lower_red, upper_red) \n",
        "#aplicamos la mascara en la imagen\n",
        "img_result = cv2.bitwise_and(img,img, mask = mask_red)\n",
        "#visualizamos la imagen\n",
        "cv2_imshow(img)\n",
        "cv2_imshow(mask_red)\n",
        "cv2_imshow(img_result)\n"
      ],
      "execution_count": 0,
      "outputs": []
    },
    {
      "cell_type": "code",
      "metadata": {
        "id": "m4VrnZcke3hr",
        "colab_type": "code",
        "colab": {}
      },
      "source": [
        "img_gris = cv2.imread(\"/content/drive/My Drive/Computer_vision/Images/coins2.jpg\",0)\n",
        "cv2_imshow(img)\n",
        "#Aplicamos un filtro gausiano para suavizar la imagen\n",
        "img_gauss = cv2.GaussianBlur(img_gris, (5,5), 0)\n",
        "cv2_imshow(img_gauss)\n",
        "img_canny = cv2.Canny(img_gauss, 50, 600)\n",
        "plt.imshow(img_canny)\n",
        "plt.show()\n",
        "cv2_imshow(img_canny)\n",
        "contornos,_=cv2.findContours(img_canny.copy(),cv2.RETR_EXTERNAL,cv2.CHAIN_APPROX_SIMPLE)\n",
        "print(\"He encontrado {} objetos\".format(len(contornos)))\n"
      ],
      "execution_count": 0,
      "outputs": []
    },
    {
      "cell_type": "code",
      "metadata": {
        "id": "rAvH6BIj9equ",
        "colab_type": "code",
        "colab": {}
      },
      "source": [
        "img_gris = cv2.imread(\"/content/drive/My Drive/Computer_Vision/Images/coins3.jpg\",0)\n",
        "cv2_imshow(img)\n",
        "#Aplicamos un filtro gausiano para suavizar la imagen\n",
        "img_gauss = cv2.GaussianBlur(img_gris, (5, 5), 0)\n",
        "cv2_imshow(img_gauss)\n",
        "img_canny = cv2.Canny(img_gauss, 50, 600)"
      ],
      "execution_count": 0,
      "outputs": []
    }
  ]
}